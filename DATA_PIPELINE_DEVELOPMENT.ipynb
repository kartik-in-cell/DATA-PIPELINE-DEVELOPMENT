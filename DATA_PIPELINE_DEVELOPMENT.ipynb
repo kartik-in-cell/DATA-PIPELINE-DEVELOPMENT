{
 "cells": [
  {
   "cell_type": "code",
   "execution_count": 1,
   "id": "2541362b-0d63-4ecb-afcb-33ecd1b01a7e",
   "metadata": {},
   "outputs": [],
   "source": [
    "import pandas as pd\n",
    "import numpy as np\n",
    "from sklearn.impute import SimpleImputer\n",
    "from sklearn.preprocessing import StandardScaler, OneHotEncoder\n",
    "from sklearn.pipeline import Pipeline\n",
    "from sklearn.compose import ColumnTransformer\n"
   ]
  },
  {
   "cell_type": "code",
   "execution_count": 2,
   "id": "868a247a-7dc0-4eef-a9cc-eb399b337886",
   "metadata": {},
   "outputs": [
    {
     "name": "stdout",
     "output_type": "stream",
     "text": [
      "Raw Data:\n",
      "    Name   Age  Gender   Salary         City\n",
      "0   Bob  48.0  Female  30055.0       Dallas\n",
      "1   Tom  56.0  Female      NaN       Denver\n",
      "2   Bob  57.0    Male  58699.0  Los Angeles\n",
      "3  John  38.0    Male  97661.0       Boston\n",
      "4  John  27.0    Male  74247.0      Chicago\n"
     ]
    }
   ],
   "source": [
    "# Load the dataset\n",
    "df = pd.read_csv(\"sample_data_100.csv\")\n",
    "print(\"Raw Data:\\n\", df.head())"
   ]
  },
  {
   "cell_type": "code",
   "execution_count": 3,
   "id": "faf9fd0d-032a-4128-b4d3-f16613a71e24",
   "metadata": {},
   "outputs": [],
   "source": [
    "\n",
    "# Define numerical and categorical features\n",
    "numerical_features = [\"Age\", \"Salary\"]\n",
    "categorical_features = [\"Gender\", \"City\"]"
   ]
  },
  {
   "cell_type": "code",
   "execution_count": 4,
   "id": "361782c0-25f2-4888-ba21-958f92b1fc4b",
   "metadata": {},
   "outputs": [],
   "source": [
    "# Define transformation pipelines\n",
    "num_pipeline = Pipeline([\n",
    "    (\"imputer\", SimpleImputer(strategy=\"mean\")),  # Fill missing values with mean\n",
    "    (\"scaler\", StandardScaler())  # Standardize numerical data\n",
    "])"
   ]
  },
  {
   "cell_type": "code",
   "execution_count": 5,
   "id": "0a4eba70-d563-418b-9bb3-1d83ff7431f1",
   "metadata": {},
   "outputs": [],
   "source": [
    "cat_pipeline = Pipeline([\n",
    "    (\"imputer\", SimpleImputer(strategy=\"most_frequent\")),  # Fill missing categorical values\n",
    "    (\"encoder\", OneHotEncoder(handle_unknown=\"ignore\"))  # One-hot encode categorical features\n",
    "])"
   ]
  },
  {
   "cell_type": "code",
   "execution_count": 6,
   "id": "22f12141-6787-4cbd-a37f-336ff33db40d",
   "metadata": {},
   "outputs": [],
   "source": [
    "# Combine transformers\n",
    "preprocessor = ColumnTransformer([\n",
    "    (\"num\", num_pipeline, numerical_features),\n",
    "    (\"cat\", cat_pipeline, categorical_features)\n",
    "])"
   ]
  },
  {
   "cell_type": "code",
   "execution_count": 7,
   "id": "8a97a1aa-ebaa-4f85-98bf-001c8e9b609d",
   "metadata": {},
   "outputs": [],
   "source": [
    "# Apply transformations\n",
    "processed_data = preprocessor.fit_transform(df)"
   ]
  },
  {
   "cell_type": "code",
   "execution_count": null,
   "id": "28ea6f34-b81e-438a-aa85-92ea893d851a",
   "metadata": {},
   "outputs": [],
   "source": []
  },
  {
   "cell_type": "code",
   "execution_count": null,
   "id": "7e62da88-ea32-4943-abdd-732b5d489d46",
   "metadata": {},
   "outputs": [],
   "source": []
  },
  {
   "cell_type": "code",
   "execution_count": null,
   "id": "8c6ad67e-0010-43b0-91c4-52ec703a1d0d",
   "metadata": {},
   "outputs": [],
   "source": []
  },
  {
   "cell_type": "code",
   "execution_count": null,
   "id": "4ce9b4cb-6ca1-42be-84eb-3a0c95a6a547",
   "metadata": {},
   "outputs": [],
   "source": []
  },
  {
   "cell_type": "code",
   "execution_count": null,
   "id": "1e88c073-6111-4302-86b5-4f8b0b2c7247",
   "metadata": {},
   "outputs": [],
   "source": []
  },
  {
   "cell_type": "code",
   "execution_count": null,
   "id": "0babcd42-ad02-489a-92fc-ca076c7252c8",
   "metadata": {},
   "outputs": [],
   "source": []
  },
  {
   "cell_type": "code",
   "execution_count": null,
   "id": "294faa71-74c9-480a-96ed-db2c9bc14d8a",
   "metadata": {},
   "outputs": [],
   "source": []
  },
  {
   "cell_type": "code",
   "execution_count": null,
   "id": "ef1e63f5-eae4-4858-992b-96993af35d67",
   "metadata": {},
   "outputs": [],
   "source": []
  },
  {
   "cell_type": "code",
   "execution_count": null,
   "id": "95b81fa5-dc63-4be5-aee5-6fda7dd95027",
   "metadata": {},
   "outputs": [],
   "source": []
  },
  {
   "cell_type": "code",
   "execution_count": null,
   "id": "0719b7cd-3fa8-43d5-9e0f-e96ba4cf3b3e",
   "metadata": {},
   "outputs": [],
   "source": []
  },
  {
   "cell_type": "code",
   "execution_count": null,
   "id": "d46191bf-2500-41e4-b40f-30e06135be31",
   "metadata": {},
   "outputs": [],
   "source": []
  },
  {
   "cell_type": "code",
   "execution_count": null,
   "id": "7e6cc1de-3af2-4427-b5ed-3df1c35bc7a9",
   "metadata": {},
   "outputs": [],
   "source": []
  },
  {
   "cell_type": "code",
   "execution_count": null,
   "id": "855a10fc-38f8-4584-aae5-ac80366e8e65",
   "metadata": {},
   "outputs": [],
   "source": []
  }
 ],
 "metadata": {
  "kernelspec": {
   "display_name": "Python 3 (ipykernel)",
   "language": "python",
   "name": "python3"
  },
  "language_info": {
   "codemirror_mode": {
    "name": "ipython",
    "version": 3
   },
   "file_extension": ".py",
   "mimetype": "text/x-python",
   "name": "python",
   "nbconvert_exporter": "python",
   "pygments_lexer": "ipython3",
   "version": "3.11.7"
  }
 },
 "nbformat": 4,
 "nbformat_minor": 5
}
